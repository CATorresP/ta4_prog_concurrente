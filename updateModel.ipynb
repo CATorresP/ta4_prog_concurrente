{
 "cells": [
  {
   "cell_type": "code",
   "execution_count": 1,
   "metadata": {},
   "outputs": [],
   "source": [
    "import json\n",
    "\n",
    "with open('config/master.json', 'r') as file:\n",
    "    data = json.load(file)\n",
    "\n",
    "with open('model/model.json', 'r') as file:\n",
    "    model = json.load(file)\n",
    "\n",
    "data['modelConfig'] = model\n",
    "\n",
    "with open('config/master.json', 'w') as file:\n",
    "    json.dump(data, file, indent=4)"
   ]
  },
  {
   "cell_type": "code",
   "execution_count": null,
   "metadata": {},
   "outputs": [],
   "source": [
    "# import json\n",
    "\n",
    "# with open('config/master.json', 'r') as file:\n",
    "#     data = json.load(file)\n",
    "\n",
    "# with open('model/model.json', 'r') as file:\n",
    "#     model = json.load(file)\n",
    "\n",
    "# data['modelConfig'] = model\n",
    "# data['modelConfig']['numFeatures'] = 100\n",
    "# data['modelConfig']['epochs'] = 500\n",
    "# data['modelConfig']['learningRate'] = 0.001\n",
    "# data['modelConfig']['regularization'] = 0.0001\n",
    "\n",
    "# with open('config/master.json', 'w') as file:\n",
    "#     json.dump(data, file, indent=4)"
   ]
  }
 ],
 "metadata": {
  "kernelspec": {
   "display_name": "machine-learning",
   "language": "python",
   "name": "python3"
  },
  "language_info": {
   "codemirror_mode": {
    "name": "ipython",
    "version": 3
   },
   "file_extension": ".py",
   "mimetype": "text/x-python",
   "name": "python",
   "nbconvert_exporter": "python",
   "pygments_lexer": "ipython3",
   "version": "3.11.9"
  }
 },
 "nbformat": 4,
 "nbformat_minor": 2
}
